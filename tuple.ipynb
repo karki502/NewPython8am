{
 "cells": [
  {
   "cell_type": "code",
   "execution_count": 1,
   "id": "3e68b1b9-55f2-45a2-8a65-427202700566",
   "metadata": {},
   "outputs": [],
   "source": [
    "# tuple\n",
    "# -indexing\n",
    "# -ordered\n",
    "# -multiple and duplicate\n",
    "# -imutable"
   ]
  },
  {
   "cell_type": "code",
   "execution_count": 2,
   "id": "246cdaf7-664c-4e03-9f9b-64693bc90fb4",
   "metadata": {},
   "outputs": [
    {
     "name": "stdout",
     "output_type": "stream",
     "text": [
      "<class 'tuple'>\n"
     ]
    }
   ],
   "source": [
    "t = (1,2,3,4,5,6,7,8,9)\n",
    "print(type(t))"
   ]
  },
  {
   "cell_type": "code",
   "execution_count": 3,
   "id": "59af47b4-011d-4fb7-8584-0b7e7094dd3b",
   "metadata": {},
   "outputs": [
    {
     "name": "stdout",
     "output_type": "stream",
     "text": [
      "<class 'tuple'>\n"
     ]
    }
   ],
   "source": [
    "t = (\"Apple\",\"Ball\")\n",
    "print(type(t))"
   ]
  },
  {
   "cell_type": "code",
   "execution_count": 4,
   "id": "80ce14aa-4736-4669-9cb9-e4a4f459f750",
   "metadata": {},
   "outputs": [
    {
     "name": "stdout",
     "output_type": "stream",
     "text": [
      "Ball\n"
     ]
    }
   ],
   "source": [
    "t = (\"Apple\",\"Ball\",\"Cat\",\"Dog\")\n",
    "print(t[1])"
   ]
  },
  {
   "cell_type": "code",
   "execution_count": 5,
   "id": "bc348c89-d40d-44ee-8d5e-792ad8b73f84",
   "metadata": {},
   "outputs": [
    {
     "name": "stdout",
     "output_type": "stream",
     "text": [
      "('Apple', 'Ball')\n"
     ]
    }
   ],
   "source": [
    "t = (\"Apple\",\"Ball\",\"Cat\",\"Dog\")\n",
    "print(t[0:2])"
   ]
  },
  {
   "cell_type": "code",
   "execution_count": 6,
   "id": "762706c8-465e-4480-ab39-90499d6e09af",
   "metadata": {},
   "outputs": [],
   "source": [
    "# no append() insert() extend()\n",
    "# no update\n",
    "# no del remove() pop()\n",
    "# no sort()\n",
    "# no reverse()\n"
   ]
  },
  {
   "cell_type": "code",
   "execution_count": 7,
   "id": "d275a7d9-ca72-41ee-bc82-0a0f5f7db7f3",
   "metadata": {},
   "outputs": [
    {
     "name": "stdin",
     "output_type": "stream",
     "text": [
      "Enter n =  5\n",
      "Enter x =  1234\n",
      "Enter x =  354\n",
      "Enter x =  654\n",
      "Enter x =  675\n",
      "Enter x =  234\n"
     ]
    },
    {
     "name": "stdout",
     "output_type": "stream",
     "text": [
      "(1234, 354, 654, 675, 234)\n"
     ]
    }
   ],
   "source": [
    "t = tuple()\n",
    "n = int(input(\"Enter n = \"))\n",
    "for i in range(n):\n",
    "    x = int(input(\"Enter x = \"))\n",
    "    t = t+(x,)\n",
    "print(t)"
   ]
  },
  {
   "cell_type": "code",
   "execution_count": 8,
   "id": "19d9b296-9033-4749-9e4c-40166c98e311",
   "metadata": {},
   "outputs": [
    {
     "name": "stdout",
     "output_type": "stream",
     "text": [
      "1234\n",
      "234\n",
      "3151\n"
     ]
    }
   ],
   "source": [
    "print(max(t))\n",
    "print(min(t))\n",
    "print(sum(t))"
   ]
  },
  {
   "cell_type": "code",
   "execution_count": 9,
   "id": "0a3872e9-c890-44f5-97af-5387f375e44d",
   "metadata": {},
   "outputs": [
    {
     "name": "stdout",
     "output_type": "stream",
     "text": [
      "(10, 15, 20, 30, 40, 50)\n"
     ]
    }
   ],
   "source": [
    "a = 10,15,20,30,40,50\n",
    "print(a)"
   ]
  },
  {
   "cell_type": "code",
   "execution_count": 12,
   "id": "c8eb7588-1647-4376-8773-cdf6c707dce9",
   "metadata": {},
   "outputs": [
    {
     "name": "stdout",
     "output_type": "stream",
     "text": [
      "['Apple', 'Ball', 'Cat', 'Dog', 'Apple']\n"
     ]
    }
   ],
   "source": [
    "# tuple to list\n",
    "t = (\"Apple\",\"Ball\",\"Cat\",\"Dog\",\"Apple\")\n",
    "l = list(t)\n",
    "print(l)"
   ]
  },
  {
   "cell_type": "code",
   "execution_count": 13,
   "id": "b0e67d6e-0b15-444d-a8f9-f6dd8bd7c0b7",
   "metadata": {},
   "outputs": [
    {
     "name": "stdout",
     "output_type": "stream",
     "text": [
      "['Ball', 'Cat', 'Dog', 'Aple']\n"
     ]
    }
   ],
   "source": [
    "# tuple to list\n",
    "t = (\"Apple\",\"Ball\",\"Cat\",\"Dog\",\"Aple\")\n",
    "l = list(t)\n",
    "del l[0]\n",
    "print(l)"
   ]
  },
  {
   "cell_type": "code",
   "execution_count": 15,
   "id": "945428f5-9b1b-46ee-9768-21d22d826530",
   "metadata": {},
   "outputs": [
    {
     "name": "stdout",
     "output_type": "stream",
     "text": [
      "['Ball', 'Cat', 'Dog', 'Aple']\n"
     ]
    }
   ],
   "source": [
    "# tuple to list\n",
    "t = (\"Apple\",\"Ball\",\"Cat\",\"Dog\",\"Aple\")\n",
    "l = list(t)\n",
    "del l[0]\n",
    "\n",
    "t = tuple(l)\n",
    "print(l)"
   ]
  },
  {
   "cell_type": "code",
   "execution_count": 17,
   "id": "fd40a62f-3e2e-4850-b0b1-d85cdda2d0b6",
   "metadata": {},
   "outputs": [
    {
     "name": "stdout",
     "output_type": "stream",
     "text": [
      "((1, 2, 3), (4, 5, 6), (7, 8, 9))\n"
     ]
    }
   ],
   "source": [
    "# tuple inside tuple\n",
    "a = ((1,2,3),\n",
    "     (4,5,6),\n",
    "     (7,8,9))\n",
    "print(a)\n",
    "     "
   ]
  },
  {
   "cell_type": "code",
   "execution_count": null,
   "id": "beebe8ff-a594-4ec7-947c-67a4b015e955",
   "metadata": {},
   "outputs": [],
   "source": []
  }
 ],
 "metadata": {
  "kernelspec": {
   "display_name": "Python [conda env:anaconda]",
   "language": "python",
   "name": "conda-env-anaconda-py"
  },
  "language_info": {
   "codemirror_mode": {
    "name": "ipython",
    "version": 3
   },
   "file_extension": ".py",
   "mimetype": "text/x-python",
   "name": "python",
   "nbconvert_exporter": "python",
   "pygments_lexer": "ipython3",
   "version": "3.12.7"
  }
 },
 "nbformat": 4,
 "nbformat_minor": 5
}
