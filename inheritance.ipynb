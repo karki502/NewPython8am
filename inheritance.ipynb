{
 "cells": [
  {
   "cell_type": "code",
   "execution_count": null,
   "id": "4b6f3072-f2fb-47b4-b802-3edb80f8ac88",
   "metadata": {},
   "outputs": [],
   "source": [
    "# class A:\n",
    "#     <methods>\n",
    "#     <methos>\n",
    "\n",
    "# class B(A):\n",
    "#     <methods>\n",
    "#     <methods>\n",
    "\n",
    "# obj = B()"
   ]
  },
  {
   "cell_type": "code",
   "execution_count": 1,
   "id": "547d919c-1fc6-47f8-9652-4bfdb51c8229",
   "metadata": {},
   "outputs": [
    {
     "name": "stdout",
     "output_type": "stream",
     "text": [
      "Hello World I am Ram. I am from Kathmandu. I am 34.\n"
     ]
    }
   ],
   "source": [
    "class Data:                                          #parent class\n",
    "    def __init__(self):\n",
    "        self.name = \"Ram\"\n",
    "        self.age = 34\n",
    "        self.add = \"Kathmandu\"\n",
    "\n",
    "    def data(self):\n",
    "        print(self.name,self.age,self.add)\n",
    "        \n",
    "class Info(Data):                                     #child class\n",
    "    def info(self):\n",
    "        print(f\"Hello World I am {self.name}. I am from {self.add}. I am {self.age}.\")\n",
    "\n",
    "obj = Info()\n",
    "obj.info()"
   ]
  },
  {
   "cell_type": "code",
   "execution_count": 2,
   "id": "75184b8c-d9c1-4bd7-aef7-3bf0498b0dda",
   "metadata": {},
   "outputs": [
    {
     "name": "stdin",
     "output_type": "stream",
     "text": [
      "Enter name =  Ram\n",
      "Enter age =  34\n",
      "Enter add =  Kathmandu\n"
     ]
    },
    {
     "name": "stdout",
     "output_type": "stream",
     "text": [
      "Hello World I am Ram. I am from Kathmandu. I am 34.\n",
      "Ram 34 Kathmandu\n"
     ]
    }
   ],
   "source": [
    "class Data:                                          #parent class\n",
    "    def __init__(self,name,age,add):\n",
    "        self.name = name\n",
    "        self.age = age\n",
    "        self.add = add\n",
    "\n",
    "    def data(self):\n",
    "        print(self.name,self.age,self.add)\n",
    "        \n",
    "class Info(Data):                                     #child class\n",
    "    def info(self):\n",
    "        print(f\"Hello World I am {self.name}. I am from {self.add}. I am {self.age}.\")\n",
    "        \n",
    "name = input(\"Enter name = \")\n",
    "age = int(input(\"Enter age = \"))\n",
    "add = input(\"Enter add = \")\n",
    "obj = Info(name,age,add)\n",
    "obj.info()\n",
    "obj.data()"
   ]
  },
  {
   "cell_type": "code",
   "execution_count": 3,
   "id": "e76e1ff7-6cc8-4f86-b665-919440cdd841",
   "metadata": {},
   "outputs": [
    {
     "name": "stdin",
     "output_type": "stream",
     "text": [
      "Enter name =  Ram\n",
      "Enter age =  34\n",
      "Enter add =  Kathmandu\n"
     ]
    },
    {
     "name": "stdout",
     "output_type": "stream",
     "text": [
      "Hello World I am Ram. I am from Kathmandu. I am 34.\n",
      "Ram 34 Kathmandu\n"
     ]
    }
   ],
   "source": [
    "class Data:                                          #parent class\n",
    "    def __init__(self,add):\n",
    "        self.add = add\n",
    "\n",
    "    def data(self):\n",
    "        print(self.name,self.age,self.add)\n",
    "        \n",
    "class Info(Data):                                     #child class\n",
    "    def __init__(self,name,age,add):\n",
    "        self.name = name\n",
    "        self.age = age\n",
    "        Data.__init__(self,add)\n",
    "    def info(self):\n",
    "        print(f\"Hello World I am {self.name}. I am from {self.add}. I am {self.age}.\")\n",
    "        \n",
    "name = input(\"Enter name = \")\n",
    "age = int(input(\"Enter age = \"))\n",
    "add = input(\"Enter add = \")\n",
    "obj = Info(name,age,add)\n",
    "obj.info()\n",
    "obj.data()"
   ]
  },
  {
   "cell_type": "code",
   "execution_count": 4,
   "id": "f943f111-d046-436b-85e7-8d1a03f1688f",
   "metadata": {},
   "outputs": [
    {
     "name": "stdout",
     "output_type": "stream",
     "text": [
      "This is class A\n",
      "This is class B\n",
      "This is class C\n"
     ]
    }
   ],
   "source": [
    "#multilevel\n",
    "class A:\n",
    "    print(\"This is class A\")\n",
    "class B(A):\n",
    "    print(\"This is class B\")\n",
    "class C(B):\n",
    "    print(\"This is class C\")\n",
    "\n",
    "obj = C()"
   ]
  },
  {
   "cell_type": "code",
   "execution_count": 2,
   "id": "74779e5c-44fa-4238-bfc1-07782fdd3336",
   "metadata": {},
   "outputs": [
    {
     "ename": "IndentationError",
     "evalue": "expected an indented block after class definition on line 20 (693023801.py, line 21)",
     "output_type": "error",
     "traceback": [
      "\u001b[1;36m  Cell \u001b[1;32mIn[2], line 21\u001b[1;36m\u001b[0m\n\u001b[1;33m    def __init__(self,add):\u001b[0m\n\u001b[1;37m    ^\u001b[0m\n\u001b[1;31mIndentationError\u001b[0m\u001b[1;31m:\u001b[0m expected an indented block after class definition on line 20\n"
     ]
    }
   ],
   "source": [
    "class Address:\n",
    "    def __init__(self,add):\n",
    "        self.add = add\n",
    "    def address(self):\n",
    "        print(self.add)\n",
    "        \n",
    "class Data(Address):                                          #parent class\n",
    "    def __init__(self,age,add):\n",
    "        self.age = age\n",
    "        Address.__init__(self,add)\n",
    "\n",
    "    def data(self):\n",
    "        print(self.name,self.age,self.add)\n",
    "        \n",
    "class Info(Data):                                     #child class\n",
    "    def __init__(self,name,age,add):\n",
    "        self.name = name\n",
    "        Data.__init__(self,age,add)\n",
    "    def info(self):\n",
    "       class Address:\n",
    "    def __init__(self,add):\n",
    "        self.add = add\n",
    "    def address(self):\n",
    "        print(self.add)\n",
    "        \n",
    "class Data(Address):                                          #parent class\n",
    "    def __init__(self,age,add):\n",
    "        self.age = age\n",
    "        Address.__init__(self,add)\n",
    "\n",
    "    def data(self):\n",
    "        print(self.name,self.age,self.add)\n",
    "        \n",
    "class Info(Data):                                     #child class\n",
    "    def __init__(self,name,age,add):\n",
    "        self.name = name\n",
    "        Data.__init__(self,age,add)\n",
    "    def info(self):"
   ]
  },
  {
   "cell_type": "code",
   "execution_count": 3,
   "id": "67fcb68d-b828-4b04-b5a0-e10a57d4282f",
   "metadata": {},
   "outputs": [
    {
     "name": "stdin",
     "output_type": "stream",
     "text": [
      "Enter name =  Ram\n",
      "Enter age =  34\n",
      "Enter add =  Kathmandu\n"
     ]
    },
    {
     "name": "stdout",
     "output_type": "stream",
     "text": [
      "Hello World I am Ram. I am from Kathmandu. I am 34.\n"
     ]
    }
   ],
   "source": [
    "class Address:                                          #parent class\n",
    "    def __init__(self,add):\n",
    "        self.add = add\n",
    "\n",
    "    def address(self):\n",
    "        print(self.name,self.age,self.add)\n",
    "\n",
    "class Age:\n",
    "    def __init__(self,age):\n",
    "        self.age = age\n",
    "\n",
    "    def age(self):\n",
    "        print(self.age)\n",
    "        \n",
    "class Info(Address,Age):                                     #child class\n",
    "    def __init__(self,name,age,add):\n",
    "        self.name = name\n",
    "        Age.__init__(self,age)\n",
    "        Address.__init__(self,add)\n",
    "    def info(self):\n",
    "        print(f\"Hello World I am {self.name}. I am from {self.add}. I am {self.age}.\")\n",
    "        \n",
    "name = input(\"Enter name = \")\n",
    "age = int(input(\"Enter age = \"))\n",
    "add = input(\"Enter add = \")\n",
    "obj = Info(name,age,add)\n",
    "obj.info()"
   ]
  },
  {
   "cell_type": "code",
   "execution_count": 2,
   "id": "f61ef4f8-d6da-4d91-874b-45f0ac64ff7c",
   "metadata": {},
   "outputs": [
    {
     "name": "stdout",
     "output_type": "stream",
     "text": [
      "Hello World I am Ram. I am from Kathmandu. I am 34.\n",
      "('Ram', 34, 'Kathmandu')\n"
     ]
    }
   ],
   "source": [
    "class Data:                                          #parent class\n",
    "    def __init__(self):\n",
    "        self.name = \"Ram\"\n",
    "        self.age = 34\n",
    "        self.add = \"Kathmandu\"\n",
    "\n",
    "    def data(self):\n",
    "        return self.name,self.age,self.add\n",
    "        \n",
    "class Info(Data):                                     #child class\n",
    "    def info(self):\n",
    "        print(f\"Hello World I am {self.name}. I am from {self.add}. I am {self.age}.\")\n",
    "        print(Data.data(self))\n",
    "\n",
    "obj = Info()\n",
    "obj.info()"
   ]
  },
  {
   "cell_type": "code",
   "execution_count": 1,
   "id": "6c6f16e3-aa42-4844-a3d9-5ee1c7736d7c",
   "metadata": {},
   "outputs": [
    {
     "name": "stdout",
     "output_type": "stream",
     "text": [
      "Ram\n",
      "34\n",
      "Kathmandu\n"
     ]
    }
   ],
   "source": [
    "# public members\n",
    "class Info:\n",
    "    def __init__(self):\n",
    "        self.name = \"Ram\"\n",
    "        self.age = 34\n",
    "        self.add = \"Kathmandu\"\n",
    "        \n",
    "obj = Info()\n",
    "print(obj.name)\n",
    "print(obj.age)\n",
    "print(obj.add)\n",
    "        "
   ]
  },
  {
   "cell_type": "code",
   "execution_count": 2,
   "id": "8ced0fd3-b171-44ef-a4d8-6253537be6ed",
   "metadata": {},
   "outputs": [
    {
     "name": "stdout",
     "output_type": "stream",
     "text": [
      "Ram\n",
      "34\n",
      "Kathmandu\n"
     ]
    }
   ],
   "source": [
    "# public members\n",
    "class Info:\n",
    "    def __init__(self):\n",
    "        self._name = \"Ram\"\n",
    "        self._age = 34\n",
    "        self._add = \"Kathmandu\"\n",
    "        \n",
    "obj = Info()\n",
    "print(obj._name)\n",
    "print(obj._age)\n",
    "print(obj._add)"
   ]
  },
  {
   "cell_type": "code",
   "execution_count": null,
   "id": "2b8e76cd-ddf0-4943-a44e-aa37f7800d3f",
   "metadata": {},
   "outputs": [],
   "source": [
    "# private members\n",
    "class Info:\n",
    "    def __init__(self):\n",
    "        self.__name = \"Ram\"\n",
    "        self.__age = 34\n",
    "        self.__add = \"Kathmandu\"\n",
    "        \n",
    "obj = Info()\n",
    "# print(obj.__name)\n",
    "# print(obj.__age)\n",
    "# print(obj.__add)"
   ]
  },
  {
   "cell_type": "code",
   "execution_count": 4,
   "id": "3dae406f-773e-4bd2-bc95-dc6106a916f9",
   "metadata": {},
   "outputs": [
    {
     "name": "stdout",
     "output_type": "stream",
     "text": [
      "Hello World I am Ram.I am 34.\n",
      "Ram\n",
      "34\n"
     ]
    }
   ],
   "source": [
    "class Data:                                          #parent class\n",
    "    def __init__(self):\n",
    "        self.name = \"Ram\"                            # public member\n",
    "        self._age = 34                               # protect member\n",
    "        self._add = \"Kathmandu\"                             # private member\n",
    "\n",
    "    def data(self):\n",
    "        print(self.name,self._age,self.__add)\n",
    "        \n",
    "class Info(Data):                                     #child class\n",
    "    def info(self):\n",
    "        print(f\"Hello World I am {self.name}.I am {self._age}.\")\n",
    "\n",
    "obj = Info()\n",
    "obj.info()\n",
    "print(obj.name)\n",
    "print(obj._age)"
   ]
  },
  {
   "cell_type": "code",
   "execution_count": null,
   "id": "b45b74ba-080a-4fdc-8137-4e5556297db4",
   "metadata": {},
   "outputs": [],
   "source": []
  }
 ],
 "metadata": {
  "kernelspec": {
   "display_name": "Python [conda env:anaconda]",
   "language": "python",
   "name": "conda-env-anaconda-py"
  },
  "language_info": {
   "codemirror_mode": {
    "name": "ipython",
    "version": 3
   },
   "file_extension": ".py",
   "mimetype": "text/x-python",
   "name": "python",
   "nbconvert_exporter": "python",
   "pygments_lexer": "ipython3",
   "version": "3.12.7"
  }
 },
 "nbformat": 4,
 "nbformat_minor": 5
}
