{
 "cells": [
  {
   "cell_type": "code",
   "execution_count": 1,
   "id": "20c1e8ad-fca7-4776-b6b5-66770ffb965c",
   "metadata": {},
   "outputs": [],
   "source": [
    "# set\n",
    "# - No indexing\n",
    "# - multiple but no duplicate\n",
    "# - Unordered\n",
    "#- Mutable"
   ]
  },
  {
   "cell_type": "code",
   "execution_count": 2,
   "id": "3f440e98-c02d-4694-b559-979662da4636",
   "metadata": {},
   "outputs": [
    {
     "name": "stdout",
     "output_type": "stream",
     "text": [
      "<class 'set'>\n"
     ]
    }
   ],
   "source": [
    "s = set()\n",
    "print(type(s))"
   ]
  },
  {
   "cell_type": "code",
   "execution_count": 3,
   "id": "e0250974-6ac7-433b-a069-deab9e231720",
   "metadata": {},
   "outputs": [
    {
     "name": "stdout",
     "output_type": "stream",
     "text": [
      "{1, 2, 3, 4, 5, 6, 7, 8, 9}\n"
     ]
    }
   ],
   "source": [
    "s = {1,2,3,4,5,6,7,8,9}\n",
    "print(s)"
   ]
  },
  {
   "cell_type": "code",
   "execution_count": 4,
   "id": "eb515457-0f36-43f9-891e-5488bf4db144",
   "metadata": {},
   "outputs": [
    {
     "name": "stdout",
     "output_type": "stream",
     "text": [
      "{'Fish', 'Ball', 'Cat', 'Apple', 'Dog'}\n"
     ]
    }
   ],
   "source": [
    "s = {\"Apple\",\"Ball\",\"Cat\",\"Dog\",\"Fish\"}\n",
    "print(s)"
   ]
  },
  {
   "cell_type": "code",
   "execution_count": 5,
   "id": "bc45b6ec-4c71-4d2a-b32e-ecfa33db189d",
   "metadata": {},
   "outputs": [
    {
     "name": "stdout",
     "output_type": "stream",
     "text": [
      "{'apple', 'Fish', 'Ball', 'Cat', 'Apple', 'Dog'}\n"
     ]
    }
   ],
   "source": [
    "s = {\"Apple\",\"Ball\",\"Cat\",\"Dog\",\"Fish\",\"apple\",\"Dog\"}\n",
    "print(s)"
   ]
  },
  {
   "cell_type": "code",
   "execution_count": 6,
   "id": "578bc2b6-e6e2-44cb-bc76-8003bcff2fa4",
   "metadata": {},
   "outputs": [
    {
     "ename": "NameError",
     "evalue": "name 'o' is not defined",
     "output_type": "error",
     "traceback": [
      "\u001b[1;31m---------------------------------------------------------------------------\u001b[0m",
      "\u001b[1;31mNameError\u001b[0m                                 Traceback (most recent call last)",
      "Cell \u001b[1;32mIn[6], line 2\u001b[0m\n\u001b[0;32m      1\u001b[0m s \u001b[38;5;241m=\u001b[39m {\u001b[38;5;124m\"\u001b[39m\u001b[38;5;124mApple\u001b[39m\u001b[38;5;124m\"\u001b[39m,\u001b[38;5;124m\"\u001b[39m\u001b[38;5;124mBall\u001b[39m\u001b[38;5;124m\"\u001b[39m,\u001b[38;5;124m\"\u001b[39m\u001b[38;5;124mCat\u001b[39m\u001b[38;5;124m\"\u001b[39m,\u001b[38;5;124m\"\u001b[39m\u001b[38;5;124mDog\u001b[39m\u001b[38;5;124m\"\u001b[39m,\u001b[38;5;124m\"\u001b[39m\u001b[38;5;124mFish\u001b[39m\u001b[38;5;124m\"\u001b[39m,\u001b[38;5;124m\"\u001b[39m\u001b[38;5;124mapple\u001b[39m\u001b[38;5;124m\"\u001b[39m,\u001b[38;5;124m\"\u001b[39m\u001b[38;5;124mDog\u001b[39m\u001b[38;5;124m\"\u001b[39m}\n\u001b[1;32m----> 2\u001b[0m s[o]\n",
      "\u001b[1;31mNameError\u001b[0m: name 'o' is not defined"
     ]
    }
   ],
   "source": [
    "s = {\"Apple\",\"Ball\",\"Cat\",\"Dog\",\"Fish\",\"apple\",\"Dog\"}\n",
    "s[o]"
   ]
  },
  {
   "cell_type": "code",
   "execution_count": null,
   "id": "f9f72834-0961-4e19-aa4e-9e0c84a0de47",
   "metadata": {},
   "outputs": [],
   "source": []
  },
  {
   "cell_type": "code",
   "execution_count": 7,
   "id": "3acca65b-4781-4980-964c-4522393e346e",
   "metadata": {},
   "outputs": [
    {
     "data": {
      "text/plain": [
       "dict"
      ]
     },
     "execution_count": 7,
     "metadata": {},
     "output_type": "execute_result"
    }
   ],
   "source": [
    "a = {}\n",
    "type (a)"
   ]
  },
  {
   "cell_type": "code",
   "execution_count": null,
   "id": "4f2b1222-9fc6-40fd-837e-18e92f9e38ec",
   "metadata": {},
   "outputs": [],
   "source": []
  },
  {
   "cell_type": "code",
   "execution_count": 9,
   "id": "aa63f950-e429-404a-b8ca-74856444fda8",
   "metadata": {},
   "outputs": [
    {
     "name": "stdout",
     "output_type": "stream",
     "text": [
      "{'Cat', 'Ball', 'Apple'}\n"
     ]
    }
   ],
   "source": [
    "# insert data into set\n",
    "s = set()\n",
    "s.add(\"Apple\")\n",
    "s.add(\"Ball\")\n",
    "s.add(\"Cat\")\n",
    "print(s)\n"
   ]
  },
  {
   "cell_type": "code",
   "execution_count": 11,
   "id": "c6f8b914-b4e1-4613-9f09-f098be931f3d",
   "metadata": {},
   "outputs": [
    {
     "name": "stdout",
     "output_type": "stream",
     "text": [
      "{'Cat', 'Ball'}\n"
     ]
    }
   ],
   "source": [
    "# remove\n",
    "s = {'Apple','Ball','Cat'}\n",
    "s.remove('Apple')\n",
    "print(s)"
   ]
  },
  {
   "cell_type": "code",
   "execution_count": 12,
   "id": "0fbd45fb-857a-4144-93dc-5fb9a742c998",
   "metadata": {},
   "outputs": [],
   "source": [
    "#There is no any mutable datatype inside set\n"
   ]
  },
  {
   "cell_type": "code",
   "execution_count": 13,
   "id": "cc8ae526-4972-4df1-82c3-ed369c9318a7",
   "metadata": {},
   "outputs": [],
   "source": [
    "# No list inside set\n",
    "# No dict inside set\n",
    "# No set inside set"
   ]
  },
  {
   "cell_type": "code",
   "execution_count": 14,
   "id": "b3f0dce6-46d3-4bc4-862f-580a10742574",
   "metadata": {},
   "outputs": [
    {
     "data": {
      "text/plain": [
       "{1, 2, 3, 4, 5, 6}"
      ]
     },
     "execution_count": 14,
     "metadata": {},
     "output_type": "execute_result"
    }
   ],
   "source": [
    "s = {1,2,3,4,5,6}\n",
    "s"
   ]
  },
  {
   "cell_type": "code",
   "execution_count": null,
   "id": "82f4ec08-c29a-4b25-8fe6-66f005197bb1",
   "metadata": {},
   "outputs": [],
   "source": [
    "# in {} there is no any use of operator"
   ]
  },
  {
   "cell_type": "code",
   "execution_count": 16,
   "id": "b8c0b65c-84ab-4b29-82ac-068eab9b65ee",
   "metadata": {},
   "outputs": [],
   "source": [
    "# update\n",
    "# union\n",
    "# intersection \n",
    "# difference"
   ]
  },
  {
   "cell_type": "code",
   "execution_count": 17,
   "id": "6bb1ede4-8463-4979-ac9a-cc2cdd393cee",
   "metadata": {},
   "outputs": [
    {
     "name": "stdout",
     "output_type": "stream",
     "text": [
      "{1, 2, 3, 4, 5, 6, 7, 8, 9, 10}\n"
     ]
    }
   ],
   "source": [
    "a = {1,2,3,4,5}\n",
    "b = {6,7,8,9,10}\n",
    "a.update(b)\n",
    "print(a)"
   ]
  },
  {
   "cell_type": "code",
   "execution_count": 2,
   "id": "d37d2a6c-aa0f-43c0-b986-98778bec6deb",
   "metadata": {},
   "outputs": [
    {
     "name": "stdout",
     "output_type": "stream",
     "text": [
      "common HR =  {'Hari', 'Ram'}\n",
      "merged HR =  {'Sujan', 'Jack', 'Ashok', 'Steave', 'Nilam', 'John', 'Sita', 'Willium', 'Satya', 'Hari', 'Bill', 'Ram'}\n"
     ]
    }
   ],
   "source": [
    "ms = {\"Jack\",\"John\",\"Bill\",\"Willium\",\"Satya\",\"Ram\",\"Hari\"}\n",
    "apple = {\"Steave\",\"Ashok\",\"Nilam\",\"Sujan\",\"Sita\",\"Ram\",\"Hari\"}\n",
    "\n",
    "common = ms.intersection(apple)\n",
    "\n",
    "merge = ms.union(apple)\n",
    "\n",
    "print(\"common HR = \", common)\n",
    "print(\"merged HR = \",merge)\n"
   ]
  },
  {
   "cell_type": "code",
   "execution_count": 3,
   "id": "14da2057-26d4-4d08-84bd-54d8c67d8834",
   "metadata": {},
   "outputs": [
    {
     "name": "stdout",
     "output_type": "stream",
     "text": [
      "only ms =  {'Jack', 'John', 'Willium', 'Satya', 'Bill'}\n"
     ]
    }
   ],
   "source": [
    "print(\"only ms = \", ms-apple)"
   ]
  },
  {
   "cell_type": "code",
   "execution_count": 4,
   "id": "c2bee703-27e2-489a-970b-f2d477dcba03",
   "metadata": {},
   "outputs": [
    {
     "name": "stdout",
     "output_type": "stream",
     "text": [
      "only apple =  {'Sujan', 'Ashok', 'Steave', 'Nilam', 'Sita'}\n"
     ]
    }
   ],
   "source": [
    "print(\"only apple = \",apple-ms)"
   ]
  },
  {
   "cell_type": "code",
   "execution_count": 2,
   "id": "6669ae4c-30fe-4770-bcd0-20956b9547c5",
   "metadata": {},
   "outputs": [
    {
     "name": "stdout",
     "output_type": "stream",
     "text": [
      "common HR =  {'Hari', 'Ram'}\n",
      "merged HR =  {'Willium', 'Satya', 'Steave', 'Hari', 'Ram', 'Sita', 'Nilam', 'Jack', 'Sujan', 'John', 'Ashok', 'Bill'}\n"
     ]
    }
   ],
   "source": [
    "u = {'xyz','abc','Sita','Nilam','Bill','Hari','Ashok','Sujan','Ram','Jack','Willium','Steave','Satya','John'}\n",
    "\n",
    "ms = {\"Jack\",\"John\",\"Bill\",\"Willium\",\"Satya\",\"Ram\",\"Hari\"}\n",
    "apple = {\"Steave\",\"Ashok\",\"Nilam\",\"Sujan\",\"Sita\",\"Ram\",\"Hari\"}\n",
    "\n",
    "common = ms.intersection(apple)\n",
    "\n",
    "merge = ms.union(apple)\n",
    "\n",
    "print(\"common HR = \", common)\n",
    "print(\"merged HR = \",merge)"
   ]
  },
  {
   "cell_type": "code",
   "execution_count": 3,
   "id": "18ffaf82-e393-4f04-8512-6c1a7c02e87b",
   "metadata": {},
   "outputs": [
    {
     "name": "stdout",
     "output_type": "stream",
     "text": [
      "{'abc', 'xyz'}\n"
     ]
    }
   ],
   "source": [
    "# unemployed people\n",
    "print(u-merge)"
   ]
  },
  {
   "cell_type": "code",
   "execution_count": 4,
   "id": "1af34e38-6f95-4395-903d-d4c09790b4aa",
   "metadata": {},
   "outputs": [],
   "source": [
    "# subset()\n",
    "# superset()\n",
    "# disjoint()"
   ]
  },
  {
   "cell_type": "code",
   "execution_count": 3,
   "id": "7b8715ca-dab4-4891-ac99-277206de04b1",
   "metadata": {},
   "outputs": [
    {
     "data": {
      "text/plain": [
       "{'django', 'js'}"
      ]
     },
     "execution_count": 3,
     "metadata": {},
     "output_type": "execute_result"
    }
   ],
   "source": [
    "skills = {\"python\",\"ms word\",\"paint\",\"html\",\"css\",'django','js'}\n",
    "jd = {'django','js','react'}\n",
    "skills.intersection(jd)"
   ]
  },
  {
   "cell_type": "code",
   "execution_count": 4,
   "id": "08e1b8be-c100-40b9-9920-508202635907",
   "metadata": {},
   "outputs": [
    {
     "data": {
      "text/plain": [
       "66.66666666666666"
      ]
     },
     "execution_count": 4,
     "metadata": {},
     "output_type": "execute_result"
    }
   ],
   "source": [
    "len(skills.intersection(jd))/len(jd)*100\n"
   ]
  },
  {
   "cell_type": "code",
   "execution_count": null,
   "id": "f44152aa-e8eb-48f8-8507-7bfd881acdb3",
   "metadata": {},
   "outputs": [],
   "source": []
  }
 ],
 "metadata": {
  "kernelspec": {
   "display_name": "Python [conda env:anaconda]",
   "language": "python",
   "name": "conda-env-anaconda-py"
  },
  "language_info": {
   "codemirror_mode": {
    "name": "ipython",
    "version": 3
   },
   "file_extension": ".py",
   "mimetype": "text/x-python",
   "name": "python",
   "nbconvert_exporter": "python",
   "pygments_lexer": "ipython3",
   "version": "3.12.7"
  }
 },
 "nbformat": 4,
 "nbformat_minor": 5
}
