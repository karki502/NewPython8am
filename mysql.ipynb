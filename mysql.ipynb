{
 "cells": [
  {
   "cell_type": "code",
   "execution_count": 4,
   "id": "d9636867-1b8b-432e-b326-d613da651ea7",
   "metadata": {},
   "outputs": [
    {
     "name": "stdout",
     "output_type": "stream",
     "text": [
      "Requirement already satisfied: mysql-connector in c:\\users\\babu ram\\anaconda\\lib\\site-packages (2.2.9)\n"
     ]
    }
   ],
   "source": [
    "!pip install mysql-connector"
   ]
  },
  {
   "cell_type": "code",
   "execution_count": 3,
   "id": "02daeea4-ae8b-4c7d-a502-87269d5774ff",
   "metadata": {},
   "outputs": [],
   "source": [
    "import mysql.connector  \t\t#importing database\n",
    "\n",
    "database = mysql.connector.connect(\n",
    "  host=\"localhost\",\n",
    "  user=\"root\",\n",
    "  password=\"\",\n",
    "  database = \"python_class\"\n",
    ")\n",
    "db = database.cursor()"
   ]
  },
  {
   "cell_type": "code",
   "execution_count": 6,
   "id": "70f0ac89-1bf0-43aa-8c30-13cd639fa32c",
   "metadata": {},
   "outputs": [
    {
     "name": "stdout",
     "output_type": "stream",
     "text": [
      "(1, 'Ram', 89, 99, 89, 87, 78, 470, 90.0, 'A')\n",
      "(2, 'Shyam', 89, 76, 89, 80, 87, 470, 85.0, 'A')\n",
      "(3, 'Hari', 79, 96, 99, 70, 77, 475, 86.0, 'A')\n",
      "(4, 'Sita', 78, 93, 92, 76, 78, 470, 85.0, 'A')\n",
      "(5, 'Nabin', 78, 70, 60, 80, 78, 400, 73.0, 'B')\n"
     ]
    }
   ],
   "source": [
    "#read all data from database\n",
    "db.execute(\"SELECT * FROM student\")\n",
    "result =db.fetchall()\n",
    "\n",
    "for x in result:\n",
    "  print(x)"
   ]
  },
  {
   "cell_type": "code",
   "execution_count": 7,
   "id": "47a1cf96-ba08-46de-a3cb-e6f6cb91179a",
   "metadata": {},
   "outputs": [
    {
     "name": "stdout",
     "output_type": "stream",
     "text": [
      "(1, 'Ram', 90.0, 'A')\n",
      "(2, 'Shyam', 85.0, 'A')\n",
      "(3, 'Hari', 86.0, 'A')\n",
      "(4, 'Sita', 85.0, 'A')\n",
      "(5, 'Nabin', 73.0, 'B')\n"
     ]
    }
   ],
   "source": [
    "#read selected column's data from database\n",
    "db.execute(\"SELECT sn,name,per,grade FROM student\")\n",
    "result =db.fetchall()\n",
    "\n",
    "for x in result:\n",
    "  print(x)"
   ]
  },
  {
   "cell_type": "code",
   "execution_count": 4,
   "id": "04188b43-82af-4b2c-88c4-ba1aa765557b",
   "metadata": {},
   "outputs": [
    {
     "name": "stdout",
     "output_type": "stream",
     "text": [
      "(5, 'Nabin', 78, 70, 60, 80, 78, 400, 73.0, 'B')\n",
      "(6, 'Akash', 78, 90, 87, 67, 70, 400, 74.0, 'B')\n"
     ]
    }
   ],
   "source": [
    "#read filtered column's data from database\n",
    "db.execute(\"SELECT * FROM student WHERE grade = 'B'\")\n",
    "result =db.fetchall()\n",
    "\n",
    "for x in result:\n",
    "  print(x)"
   ]
  },
  {
   "cell_type": "code",
   "execution_count": 5,
   "id": "322d48a2-77ef-4927-a82c-94d641deaeb7",
   "metadata": {},
   "outputs": [],
   "source": [
    "#read filtered column's data from database\n",
    "db.execute(\"SELECT * FROM student WHERE grade = 'A' AND per > 90.0;\")\n",
    "result =db.fetchall()\n",
    "\n",
    "for x in result:\n",
    "  print(x)"
   ]
  },
  {
   "cell_type": "code",
   "execution_count": 8,
   "id": "f8eadb7d-4a40-471c-aa38-c8c6b7126692",
   "metadata": {},
   "outputs": [],
   "source": [
    "# write on table\n",
    "sql = \"\"\"INSERT INTO student (name, physics, chemistry, math, english, nepali, total, per, grade) VALUES ('Akash', 78, 90, 87, 67, 70, 400, 74, 'B');\"\"\"\n",
    "db.execute(sql)\n",
    "database.commit()"
   ]
  },
  {
   "cell_type": "code",
   "execution_count": 13,
   "id": "a9096c66-ae50-4bb4-9a2a-1f38188f53be",
   "metadata": {},
   "outputs": [
    {
     "name": "stdin",
     "output_type": "stream",
     "text": [
      "Enter name =  Ram\n",
      "Enter physics mark =  80\n",
      "Enter chemistry mark =  90\n",
      "Enter math mark =  50\n",
      "Enter english mark =  78\n",
      "Enter nepali mark =  98\n"
     ]
    }
   ],
   "source": [
    "name = input(\"Enter name = \")\n",
    "physics = int(input(\"Enter physics mark = \"))\n",
    "chemistry = int(input(\"Enter chemistry mark = \"))\n",
    "math = int(input(\"Enter math mark = \"))\n",
    "english = int(input(\"Enter english mark = \"))\n",
    "nepali = int(input(\"Enter nepali mark = \"))\n",
    "\n",
    "total = physics+chemistry + math + english + nepali\n",
    "per = total/5\n",
    "\n",
    "if per >=80:\n",
    "    grade = 'A'\n",
    "elif per >=60:\n",
    "    grade = 'B'\n",
    "elif per >=50:\n",
    "    grade = 'C'\n",
    "else:\n",
    "    grade = 'F'\n",
    "\n",
    "sql = f\"\"\"INSERT INTO student (name, physics, chemistry, math, english, nepali, total, per, grade) \n",
    "VALUES ('{name}', {physics}, {chemistry}, {math}, {english}, {nepali}, {total}, {per}, '{grade}');\"\"\"\n",
    "db.execute(sql)\n",
    "database.commit()"
   ]
  },
  {
   "cell_type": "code",
   "execution_count": 15,
   "id": "50c1f988-a07b-495b-a653-b2db49268d3d",
   "metadata": {},
   "outputs": [
    {
     "name": "stdin",
     "output_type": "stream",
     "text": [
      "Enter sn =  2\n",
      "Enter name =  kazi\n"
     ]
    }
   ],
   "source": [
    "sn = int(input(\"Enter sn = \"))\n",
    "name = input(\"Enter name = \")\n",
    "sql = f\"\"\"UPDATE student SET name = '{name}'WHERE sn = {sn}; \"\"\"\n",
    "\n",
    "db.execute(sql)\n",
    "database.commit()"
   ]
  },
  {
   "cell_type": "code",
   "execution_count": null,
   "id": "e1ad3d33-8226-4d8f-b111-db29368a2b35",
   "metadata": {},
   "outputs": [],
   "source": [
    "# !pip install pandasql"
   ]
  },
  {
   "cell_type": "code",
   "execution_count": 19,
   "id": "3e337402-d0a8-4dbe-abbe-ed959150f005",
   "metadata": {},
   "outputs": [
    {
     "name": "stdin",
     "output_type": "stream",
     "text": [
      "Enter sn =  4\n"
     ]
    }
   ],
   "source": [
    "#delete in sql\n",
    "sn = int(input(\"Enter sn = \"))\n",
    "sql = f\"\"\"DELETE FROM student WHERE sn = {sn}; \"\"\"\n",
    "\n",
    "db.execute(sql)\n",
    "database.commit()"
   ]
  },
  {
   "cell_type": "code",
   "execution_count": null,
   "id": "073af113-2877-4196-b827-aa74d78b4a59",
   "metadata": {},
   "outputs": [],
   "source": []
  }
 ],
 "metadata": {
  "kernelspec": {
   "display_name": "Python [conda env:anaconda]",
   "language": "python",
   "name": "conda-env-anaconda-py"
  },
  "language_info": {
   "codemirror_mode": {
    "name": "ipython",
    "version": 3
   },
   "file_extension": ".py",
   "mimetype": "text/x-python",
   "name": "python",
   "nbconvert_exporter": "python",
   "pygments_lexer": "ipython3",
   "version": "3.12.7"
  }
 },
 "nbformat": 4,
 "nbformat_minor": 5
}
